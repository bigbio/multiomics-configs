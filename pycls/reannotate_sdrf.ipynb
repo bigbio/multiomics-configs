{
 "cells": [
  {
   "cell_type": "code",
   "execution_count": 110,
   "id": "5c13f0b9-f800-4eca-80b9-3584a40c3f17",
   "metadata": {},
   "outputs": [],
   "source": [
    "import pandas as pd"
   ]
  },
  {
   "cell_type": "code",
   "execution_count": 105,
   "id": "08c43c50-793a-4790-be7f-1607c788ff3f",
   "metadata": {},
   "outputs": [],
   "source": [
    "def get_annotate_map(annotate_path):\n",
    "    database = pd.read_csv(annotate_path,sep='\\t')\n",
    "    annote_map = {}\n",
    "    for _,df in database[['cell line','synonyms']].iterrows():\n",
    "        map = {}\n",
    "        for key in df['synonyms'].split(';'):\n",
    "            map[key.strip()] = df['cell line'].strip()\n",
    "        annote_map.update(map)\n",
    "    return annote_map\n",
    "\n",
    "def reannote_cell_sdrf(sdrf_path,annotate_path):\n",
    "    annote_map = get_annotate_map(annotate_path)\n",
    "    def check_cell_line(cell):\n",
    "        nonlocal annote_map\n",
    "        if cell not in annote_map:\n",
    "            raise KeyError(f'{cell} not in annoted database')\n",
    "        return annote_map[cell]\n",
    "    sdrf = pd.read_csv(sdrf_path,sep='\\t')\n",
    "    if('characteristics[cell line]' not in sdrf.columns):\n",
    "        raise Error('characteristics[cell line] not in sdrf columns')\n",
    "    sdrf.loc[:,'characteristics[cell line]'] = sdrf['characteristics[cell line]'].apply(check_cell_line)\n",
    "    if('factor value[cell line]' in sdrf.columns):\n",
    "        sdrf.loc[:,'factor value[cell line]'] = sdrf['factor value[cell line]'].apply(check_cell_line)\n",
    "    return sdrf\n",
    "\n",
    "def get_unannotate_cell_lines(annotate_path,sdrf_path):\n",
    "    database = pd.read_csv(annotate_path,sep='\\t')\n",
    "    synonyms = ';'.join(database['synonyms'].unique().tolist())\n",
    "    synonyms_set = set([cell.strip() for cell in synonyms.split(';')])\n",
    "    sdrf = pd.read_csv(sdrf_path,sep='\\t')\n",
    "    cell_set = set([cell.strip() for cell in sdrf['characteristics[organism part]'].unique()])\n",
    "    return cell_set - synonyms_set\n"
   ]
  },
  {
   "cell_type": "code",
   "execution_count": null,
   "id": "204635c5-c093-432a-a210-a8c0484a89af",
   "metadata": {},
   "outputs": [],
   "source": [
    "sdrf_fixed = reannote_cell_sdrf('PXD026581_TMT10.tsv','cl-annotations-db.tsv')"
   ]
  },
  {
   "cell_type": "code",
   "execution_count": 109,
   "id": "ee142b25-2f03-4053-99ed-ee77625e1af1",
   "metadata": {},
   "outputs": [
    {
     "data": {
      "text/plain": [
       "{'HCC1143',\n",
       " 'HCC1395',\n",
       " 'HCC1419',\n",
       " 'HCC1428',\n",
       " 'HCC1500',\n",
       " 'HCC1937',\n",
       " 'HCC1954',\n",
       " 'HCC70',\n",
       " 'Hs578T',\n",
       " 'MCF10A',\n",
       " 'MCF10Arep2',\n",
       " 'Old Bridge',\n",
       " 'PDX1258',\n",
       " 'PDXHCI002',\n",
       " 'hME1'}"
      ]
     },
     "execution_count": 109,
     "metadata": {},
     "output_type": "execute_result"
    }
   ],
   "source": [
    "unannotate_cell_lines = get_unannotate_cell_lines('cl-annotations-db.tsv','PXD026581_TMT10.tsv')"
   ]
  },
  {
   "cell_type": "code",
   "execution_count": null,
   "id": "2d3fa58b-de81-421f-98a0-ae0d513ed495",
   "metadata": {},
   "outputs": [],
   "source": []
  },
  {
   "cell_type": "code",
   "execution_count": 108,
   "id": "c2a0bd6b-ec3e-4b7f-9634-7a68248fb23b",
   "metadata": {},
   "outputs": [
    {
     "data": {
      "text/plain": [
       "Index(['source name', 'characteristics[organism]',\n",
       "       'characteristics[organism part]', 'characteristics[age]',\n",
       "       'characteristics[developmental stage]', 'characteristics[cell type]',\n",
       "       'characteristics[sex]', 'characteristics[disease]',\n",
       "       'characteristics[biological replicate]', 'characteristics[individual]',\n",
       "       'characteristics[enrichment process]', 'Material Type', 'assay name',\n",
       "       'technology type', 'comment[data file]', 'comment[file uri]',\n",
       "       'comment[technical replicate]', 'comment[fraction identifier]',\n",
       "       'comment[label]', 'comment[instrument]', 'comment[dissociation method]',\n",
       "       'comment[collision energy]', 'comment[precursor mass tolerance]',\n",
       "       'comment[fragment mass tolerance]', 'comment[modification parameters]',\n",
       "       'comment[modification parameters].1', 'comment[cleavage agent details]',\n",
       "       'comment[cleavage agent details].1', 'factor value[disease]'],\n",
       "      dtype='object')"
      ]
     },
     "execution_count": 108,
     "metadata": {},
     "output_type": "execute_result"
    }
   ],
   "source": []
  },
  {
   "cell_type": "code",
   "execution_count": null,
   "id": "c150cb51-a42f-4d96-aefe-567829993fd6",
   "metadata": {},
   "outputs": [],
   "source": []
  }
 ],
 "metadata": {
  "kernelspec": {
   "display_name": "Python 3 (ipykernel)",
   "language": "python",
   "name": "python3"
  },
  "language_info": {
   "codemirror_mode": {
    "name": "ipython",
    "version": 3
   },
   "file_extension": ".py",
   "mimetype": "text/x-python",
   "name": "python",
   "nbconvert_exporter": "python",
   "pygments_lexer": "ipython3",
   "version": "3.10.14"
  }
 },
 "nbformat": 4,
 "nbformat_minor": 5
}
