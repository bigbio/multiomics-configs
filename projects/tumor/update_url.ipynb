{
 "cells": [
  {
   "cell_type": "code",
   "execution_count": 63,
   "id": "099e163c-2179-4330-b2a4-2fa56e900f4f",
   "metadata": {},
   "outputs": [],
   "source": [
    "import numpy as np\n",
    "import pandas as pd\n",
    "\n",
    "#PDC数据库上的文件下载地址只支持七天\n",
    "#七天后必须重新下载file_manifest文件更新文件的url下载地址\n",
    "\n",
    "PDC_path = r\"D:\\tumor\\PDC000436\\PDC000436.sdrf.tsv\"\n",
    "file_manifest_path = r\"D:\\tumor\\PDC000436\\PDC_file_manifest_06032023_182700.csv\"\n",
    "\n",
    "def update_url(PDC_path,file_manifest_path):\n",
    "    PDC = pd.read_csv(PDC_path,sep='\\t')\n",
    "    file_manifest = pd.read_csv(file_manifest_path)\n",
    "    file_manifest = file_manifest[['File Name','File Download Link']]\n",
    "    file_manifest.columns = ['comment[data file]','url']\n",
    "    PDC = PDC.merge(file_manifest,on=\"comment[data file]\",how='left')\n",
    "    PDC.loc[:,'comment[file uri]'] = PDC['url']\n",
    "    PDC.drop(columns='url',inplace=True)\n",
    "    colname = PDC.columns.tolist()\n",
    "    colname = [coln.split('.')[0] for coln in colname]\n",
    "    PDC.to_csv(PDC_path,index=False,header=colname,sep='\\t')\n",
    "\n",
    "update_url(PDC_path,file_manifest_path)"
   ]
  },
  {
   "cell_type": "code",
   "execution_count": null,
   "id": "2975bd14-44d2-4f51-82ac-7a375569f11a",
   "metadata": {},
   "outputs": [],
   "source": []
  },
  {
   "cell_type": "code",
   "execution_count": null,
   "id": "5788a178-468f-4999-b538-80e241eab751",
   "metadata": {},
   "outputs": [],
   "source": []
  },
  {
   "cell_type": "code",
   "execution_count": null,
   "id": "c2fafa9d-4d8b-4504-a3a0-e2ef418a3f34",
   "metadata": {},
   "outputs": [],
   "source": []
  }
 ],
 "metadata": {
  "kernelspec": {
   "display_name": "Python 3",
   "language": "python",
   "name": "python3"
  },
  "language_info": {
   "codemirror_mode": {
    "name": "ipython",
    "version": 3
   },
   "file_extension": ".py",
   "mimetype": "text/x-python",
   "name": "python",
   "nbconvert_exporter": "python",
   "pygments_lexer": "ipython3",
   "version": "3.7.4"
  }
 },
 "nbformat": 4,
 "nbformat_minor": 5
}
